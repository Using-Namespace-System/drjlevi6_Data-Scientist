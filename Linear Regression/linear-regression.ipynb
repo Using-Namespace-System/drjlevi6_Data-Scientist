{
 "cells": [
  {
   "cell_type": "markdown",
   "id": "421a4632",
   "metadata": {},
   "source": [
    "# Make linear regression plots\n",
    "\n",
    "Based on Michael Galarnyk's LinkedIn Learning course, \"Machine Learning with Scikit Learn\" and Lillian Pierson's \"Python for Data Science Essential Training Part 1\", using data from my own weight-loss spreadsheet."
   ]
  },
  {
   "cell_type": "code",
   "execution_count": 2,
   "id": "165dbfcf",
   "metadata": {},
   "outputs": [],
   "source": [
    "%matplotlib inline\n",
    "\n",
    "import matplotlib.pyplot as plt\n",
    "import numpy as np \n",
    "import pandas as pd\n",
    "\n",
    "from pandas import Series, DataFrame\n",
    "\n",
    "from sklearn.model_selection import train_test_split\n",
    "from sklearn.linear_model import LinearRegression"
   ]
  },
  {
   "cell_type": "code",
   "execution_count": 8,
   "id": "9b6d1b8a",
   "metadata": {},
   "outputs": [
    {
     "data": {
      "text/plain": [
       "Date    0\n",
       "Wt      0\n",
       "BMI     0\n",
       "dtype: int64"
      ]
     },
     "execution_count": 8,
     "metadata": {},
     "output_type": "execute_result"
    }
   ],
   "source": [
    "address = './Weights.xlsx'\n",
    "weight_chart = pd.read_excel(address)\n",
    "df_ori = DataFrame(weight_chart)\n",
    "df = df_ori.iloc[:, 0:3].dropna()\n",
    "df.isnull().sum()"
   ]
  },
  {
   "cell_type": "code",
   "execution_count": null,
   "id": "36f6179c",
   "metadata": {},
   "outputs": [],
   "source": []
  }
 ],
 "metadata": {
  "kernelspec": {
   "display_name": "Python 3 (ipykernel)",
   "language": "python",
   "name": "python3"
  },
  "language_info": {
   "codemirror_mode": {
    "name": "ipython",
    "version": 3
   },
   "file_extension": ".py",
   "mimetype": "text/x-python",
   "name": "python",
   "nbconvert_exporter": "python",
   "pygments_lexer": "ipython3",
   "version": "3.9.16"
  }
 },
 "nbformat": 4,
 "nbformat_minor": 5
}
