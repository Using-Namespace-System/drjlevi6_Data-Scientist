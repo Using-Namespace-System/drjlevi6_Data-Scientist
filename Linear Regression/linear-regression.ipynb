{
 "cells": [
  {
   "cell_type": "markdown",
   "id": "ab226279",
   "metadata": {},
   "source": [
    "# Make linear regression plots\n",
    "\n",
    "Based on Michael Galarnyk's LinkedIn Learning course, \"Machine Learning with Scikit Learn\" and Lillian Pierson's \"Python for Data Science Essential Training Part 1\", using data from my own weight-loss spreadsheet."
   ]
  },
  {
   "cell_type": "code",
   "execution_count": 1,
   "id": "e674afd2",
   "metadata": {},
   "outputs": [],
   "source": [
    "%matplotlib inline\n",
    "\n",
    "import matplotlib.pyplot as plt\n",
    "import numpy as np \n",
    "import pandas as pd\n",
    "\n",
    "from pandas import Series, DataFrame\n",
    "\n",
    "from sklearn.model_selection import train_test_split\n",
    "from sklearn.linear_model import LinearRegression"
   ]
  }
 ],
 "metadata": {
  "kernelspec": {
   "display_name": "Python 3 (ipykernel)",
   "language": "python",
   "name": "python3"
  },
  "language_info": {
   "codemirror_mode": {
    "name": "ipython",
    "version": 3
   },
   "file_extension": ".py",
   "mimetype": "text/x-python",
   "name": "python",
   "nbconvert_exporter": "python",
   "pygments_lexer": "ipython3",
   "version": "3.9.16"
  }
 },
 "nbformat": 4,
 "nbformat_minor": 5
}
