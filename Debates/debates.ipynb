{
 "cells": [
  {
   "cell_type": "markdown",
   "id": "0929329e",
   "metadata": {},
   "source": [
    "# Pushdown: Make data for line chart.\n",
    "\n",
    "Generate a 1x10 array or numbers, all >= 0 and < 10, with all numbers in each row distinct, in order that they may be sorted."
   ]
  },
  {
   "cell_type": "code",
   "execution_count": 1,
   "id": "94553775",
   "metadata": {},
   "outputs": [],
   "source": [
    "# There must be links to these files in a folder included in sys.path!\n",
    "import pushdown_array, pushdown_indexed, pushdown_sorted"
   ]
  },
  {
   "cell_type": "code",
   "execution_count": 2,
   "id": "6b1eaee0",
   "metadata": {},
   "outputs": [
    {
     "name": "stdout",
     "output_type": "stream",
     "text": [
      "[ 0.00000  1.00000  2.00000  3.00000 ]\n",
      "[10.00000  6.06250 11.12500 14.18750 ]\n",
      "[ 8.62500  3.37891  2.69531 10.88672 ]\n",
      "[14.53906  8.21118  5.16846  0.68042 ]\n",
      "[ 6.90869  9.51320  1.32303  3.04253 ]\n"
     ]
    }
   ],
   "source": [
    "ar = pushdown_array.Pushdown_array(num_entries=4, num_iterations=5)\n",
    "ar.print()"
   ]
  },
  {
   "cell_type": "code",
   "execution_count": 3,
   "id": "7da1d901",
   "metadata": {},
   "outputs": [
    {
     "name": "stdout",
     "output_type": "stream",
     "text": [
      "[ [1,  0.00000], [2,  1.00000], [3,  2.00000], [4,  3.00000] ]\n",
      "[ [1, 10.00000], [2,  6.06250], [3, 11.12500], [4, 14.18750] ]\n",
      "[ [1,  8.62500], [2,  3.37891], [3,  2.69531], [4, 10.88672] ]\n",
      "[ [1, 14.53906], [2,  8.21118], [3,  5.16846], [4,  0.68042] ]\n",
      "[ [1,  6.90869], [2,  9.51320], [3,  1.32303], [4,  3.04253] ]\n"
     ]
    }
   ],
   "source": [
    "pd_idx = pushdown_indexed.Pushdown_indexed(ar)\n",
    "pd_idx.print()"
   ]
  },
  {
   "cell_type": "code",
   "execution_count": 4,
   "id": "f6d298e2",
   "metadata": {},
   "outputs": [
    {
     "name": "stdout",
     "output_type": "stream",
     "text": [
      "[ [1,  0.00000], [2,  1.00000], [3,  2.00000], [4,  3.00000] ]\n",
      "[ [2,  6.06250], [1, 10.00000], [3, 11.12500], [4, 14.18750] ]\n",
      "[ [3,  2.69531], [2,  3.37891], [1,  8.62500], [4, 10.88672] ]\n",
      "[ [4,  0.68042], [3,  5.16846], [2,  8.21118], [1, 14.53906] ]\n",
      "[ [3,  1.32303], [4,  3.04253], [1,  6.90869], [2,  9.51320] ]\n"
     ]
    }
   ],
   "source": [
    "pd_sorted = pushdown_sorted.Pushdown_sorted(pd_idx)\n",
    "pd_sorted.print()"
   ]
  },
  {
   "cell_type": "code",
   "execution_count": null,
   "id": "03d66e5c",
   "metadata": {},
   "outputs": [],
   "source": []
  }
 ],
 "metadata": {
  "kernelspec": {
   "display_name": "Python 3 (ipykernel)",
   "language": "python",
   "name": "python3"
  },
  "language_info": {
   "codemirror_mode": {
    "name": "ipython",
    "version": 3
   },
   "file_extension": ".py",
   "mimetype": "text/x-python",
   "name": "python",
   "nbconvert_exporter": "python",
   "pygments_lexer": "ipython3",
   "version": "3.9.16"
  }
 },
 "nbformat": 4,
 "nbformat_minor": 5
}
